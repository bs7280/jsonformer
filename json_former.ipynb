{
 "cells": [
  {
   "cell_type": "code",
   "execution_count": 1,
   "id": "63aa2ba9-647b-4900-a6fb-7c40f3d01f26",
   "metadata": {},
   "outputs": [],
   "source": [
    "from transformers import pipeline\n",
    "import accelerate\n",
    "import time"
   ]
  },
  {
   "cell_type": "code",
   "execution_count": null,
   "id": "12a75c03-52e2-4ac2-91e9-1c30f87aafbb",
   "metadata": {},
   "outputs": [],
   "source": [
    "from "
   ]
  },
  {
   "cell_type": "code",
   "execution_count": 2,
   "id": "5fbe7baa-904e-4f61-a101-62c104bd22db",
   "metadata": {},
   "outputs": [],
   "source": [
    "\n",
    "#hf_model = pipeline(\n",
    "#    \"text-generation\", model=\"cerebras/Cerebras-GPT-590M\", max_new_tokens=200\n",
    "#)"
   ]
  },
  {
   "cell_type": "code",
   "execution_count": 3,
   "id": "fedf4fe8-33ec-4a90-ad4f-75519e34988c",
   "metadata": {},
   "outputs": [],
   "source": [
    "from jsonformer import Jsonformer\n",
    "from transformers import AutoModelForCausalLM, AutoTokenizer"
   ]
  },
  {
   "cell_type": "code",
   "execution_count": 4,
   "id": "bd7b3f48-e43d-4164-b29a-8f938e6b6d23",
   "metadata": {},
   "outputs": [],
   "source": [
    "#from langchain.llms import HuggingFacePipeline\n",
    "#import torch\n",
    "from transformers import AutoTokenizer, AutoModelForCausalLM, pipeline, AutoModelForSeq2SeqLM\n",
    "\n",
    "model_id = 'google/flan-t5-large'# go for a smaller model if you dont have the VRAM\n",
    "tokenizer = AutoTokenizer.from_pretrained(model_id)\n",
    "model = AutoModelForSeq2SeqLM.from_pretrained(model_id, load_in_8bit=False)\n"
   ]
  },
  {
   "cell_type": "code",
   "execution_count": 24,
   "id": "f017956d-761e-4acb-95e9-74745f53e0e9",
   "metadata": {},
   "outputs": [
    {
     "name": "stdout",
     "output_type": "stream",
     "text": [
      "huggingface/tokenizers: The current process just got forked, after parallelism has already been used. Disabling parallelism to avoid deadlocks...\n",
      "To disable this warning, you can either:\n",
      "\t- Avoid using `tokenizers` before the fork if possible\n",
      "\t- Explicitly set the environment variable TOKENIZERS_PARALLELISM=(true | false)\n"
     ]
    },
    {
     "data": {
      "application/vnd.jupyter.widget-view+json": {
       "model_id": "3a9cb4ff2bd24c638650ffcf7526db67",
       "version_major": 2,
       "version_minor": 0
      },
      "text/plain": [
       "Downloading (…)lve/main/config.json:   0%|          | 0.00/819 [00:00<?, ?B/s]"
      ]
     },
     "metadata": {},
     "output_type": "display_data"
    },
    {
     "data": {
      "application/vnd.jupyter.widget-view+json": {
       "model_id": "08fd7f09e1bc40de8818ca74c642031f",
       "version_major": 2,
       "version_minor": 0
      },
      "text/plain": [
       "Downloading pytorch_model.bin:   0%|          | 0.00/13.8G [00:00<?, ?B/s]"
      ]
     },
     "metadata": {},
     "output_type": "display_data"
    },
    {
     "data": {
      "application/vnd.jupyter.widget-view+json": {
       "model_id": "a5bebc69899c4e68b1b11a135cbae448",
       "version_major": 2,
       "version_minor": 0
      },
      "text/plain": [
       "Downloading (…)okenizer_config.json:   0%|          | 0.00/450 [00:00<?, ?B/s]"
      ]
     },
     "metadata": {},
     "output_type": "display_data"
    },
    {
     "data": {
      "application/vnd.jupyter.widget-view+json": {
       "model_id": "0d0b33eb9dea447d9099547442aadfcf",
       "version_major": 2,
       "version_minor": 0
      },
      "text/plain": [
       "Downloading (…)/main/tokenizer.json:   0%|          | 0.00/2.11M [00:00<?, ?B/s]"
      ]
     },
     "metadata": {},
     "output_type": "display_data"
    },
    {
     "data": {
      "application/vnd.jupyter.widget-view+json": {
       "model_id": "b5639b6547264c8ca54f2b92d12cc2a5",
       "version_major": 2,
       "version_minor": 0
      },
      "text/plain": [
       "Downloading (…)cial_tokens_map.json:   0%|          | 0.00/228 [00:00<?, ?B/s]"
      ]
     },
     "metadata": {},
     "output_type": "display_data"
    }
   ],
   "source": [
    "if True:\n",
    "    model = AutoModelForCausalLM.from_pretrained(\"databricks/dolly-v2-7b\")\n",
    "    tokenizer = AutoTokenizer.from_pretrained(\"databricks/dolly-v2-7b\")\n",
    "elif False:\n",
    "    model_name = 'tiiuae/falcon-7b'\n",
    "    model = AutoModelForCausalLM.from_pretrained(model_name)\n",
    "    tokenizer = AutoTokenizer.from_pretrained(model_name)\n",
    "    "
   ]
  },
  {
   "cell_type": "code",
   "execution_count": 66,
   "id": "5cad9afb-730e-4e11-babc-9d9296874f3b",
   "metadata": {},
   "outputs": [
    {
     "data": {
      "text/plain": [
       "GPTNeoXForCausalLM(\n",
       "  (gpt_neox): GPTNeoXModel(\n",
       "    (embed_in): Embedding(50280, 4096)\n",
       "    (emb_dropout): Dropout(p=0.0, inplace=False)\n",
       "    (layers): ModuleList(\n",
       "      (0-31): 32 x GPTNeoXLayer(\n",
       "        (input_layernorm): LayerNorm((4096,), eps=1e-05, elementwise_affine=True)\n",
       "        (post_attention_layernorm): LayerNorm((4096,), eps=1e-05, elementwise_affine=True)\n",
       "        (post_attention_dropout): Dropout(p=0.0, inplace=False)\n",
       "        (post_mlp_dropout): Dropout(p=0.0, inplace=False)\n",
       "        (attention): GPTNeoXAttention(\n",
       "          (rotary_emb): GPTNeoXRotaryEmbedding()\n",
       "          (query_key_value): Linear(in_features=4096, out_features=12288, bias=True)\n",
       "          (dense): Linear(in_features=4096, out_features=4096, bias=True)\n",
       "          (attention_dropout): Dropout(p=0.0, inplace=False)\n",
       "        )\n",
       "        (mlp): GPTNeoXMLP(\n",
       "          (dense_h_to_4h): Linear(in_features=4096, out_features=16384, bias=True)\n",
       "          (dense_4h_to_h): Linear(in_features=16384, out_features=4096, bias=True)\n",
       "          (act): GELUActivation()\n",
       "        )\n",
       "      )\n",
       "    )\n",
       "    (final_layer_norm): LayerNorm((4096,), eps=1e-05, elementwise_affine=True)\n",
       "  )\n",
       "  (embed_out): Linear(in_features=4096, out_features=50280, bias=False)\n",
       ")"
      ]
     },
     "execution_count": 66,
     "metadata": {},
     "output_type": "execute_result"
    }
   ],
   "source": [
    "model"
   ]
  },
  {
   "cell_type": "code",
   "execution_count": 40,
   "id": "07fd3613-dddd-4b41-ba3e-572a8c570149",
   "metadata": {},
   "outputs": [],
   "source": [
    "json_schema = {\n",
    "    \"type\": \"object\",\n",
    "    \"properties\": {\n",
    "        \"origin\": {\n",
    "            \"type\": \"string\",\n",
    "            \"description\": \"Pickup City,State of load\"\n",
    "        },\n",
    "        \"destination\": {\n",
    "            \"type\": \"string\",\n",
    "            \"description\": \"Dropoff City,State of load\"\n",
    "        },\n",
    "        \"equipment\": {\n",
    "            \"type\": \"string\",\n",
    "            \"enum\": ['Van', 'Reefer', 'Flatbed'],\n",
    "            \"description\": \"The type of truckload often Van Reefer or Flatbed\"\n",
    "        },\n",
    "        \"weight\": {\n",
    "            \"type\": \"number\",\n",
    "            \"description\": \"Total weight of the load\"\n",
    "        },\n",
    "        \"weight_unit\": {\n",
    "            \"type\": \"string\",\n",
    "            \"description\": \"measurement unit of weight\"},\n",
    "        \"hot\": {\n",
    "            \"type\": \"boolean\",\n",
    "            \"default\": False,\n",
    "            \"description\": \"if the messages has HOT in it\",\n",
    "        },\n",
    "        \"team\": {\n",
    "            \"type\": \"boolean\",\n",
    "            \"default\": False,\n",
    "            \"description\": \"If message has word TEAM in it\"\n",
    "        },\n",
    "        \"latefee\": {\n",
    "            \"type\": \"number\",\n",
    "            \"required\": False,\n",
    "            \"description\": \"dollar amount fee if a load is late\",\n",
    "        },\n",
    "        \"dropoff time\": {\n",
    "            \"type\": \"string\",\n",
    "            \"required\": False,\n",
    "            \"description\": \"Time load picksup HH:MM\"\n",
    "        }\n",
    "    }\n",
    "}"
   ]
  },
  {
   "cell_type": "code",
   "execution_count": 33,
   "id": "5261391d-bafe-45d9-b03c-830d5efc3198",
   "metadata": {},
   "outputs": [],
   "source": [
    "prompt_1 = \"Van load going from Chicago,IL To Dallas,TX 43000 lbs\"\n",
    "prompt_2 = \"Reefer load from Los Angeles,CA to Las Vegas,NV 30000 lbs\"\n",
    "prompt_3 = \"Flatbed load from Los Angeles,CA to Las Vegas,NV 22200 lbs\""
   ]
  },
  {
   "cell_type": "code",
   "execution_count": 34,
   "id": "b304fcdc-c15c-41b7-befa-1e5612734ec3",
   "metadata": {},
   "outputs": [],
   "source": [
    "def process_raw_text(model, tokenizer, json_schema, raw_text):\n",
    "    prompt_template = \"Your job is to extract information from the given message and populate a json sctructure using keywords from the message. The message: {}\"\n",
    "\n",
    "    jsonformer = Jsonformer(model, tokenizer, json_schema, prompt_template.format(raw_text))\n",
    "    generated_data = jsonformer()\n",
    "    \n",
    "    return generated_data"
   ]
  },
  {
   "cell_type": "code",
   "execution_count": 35,
   "id": "e0a5c908-3a66-423e-a52e-598748f4c41a",
   "metadata": {},
   "outputs": [],
   "source": [
    "#prompt_template = \"Your job is to extract information from the given message and populate a json sctructure using keywords from the message. The message: {}\""
   ]
  },
  {
   "cell_type": "code",
   "execution_count": 36,
   "id": "716fd13c-7ce1-4fe3-9810-b3684fe6c697",
   "metadata": {},
   "outputs": [
    {
     "data": {
      "text/plain": [
       "{'origin': 'Los Angeles,CA',\n",
       " 'destination': 'Las Vegas,NV',\n",
       " 'equipment': 'Van',\n",
       " 'weight': 30000.0,\n",
       " 'weight_unit': 'ton',\n",
       " 'hot': True,\n",
       " 'team': True,\n",
       " 'latefee': 500.0,\n",
       " 'dropoff time': '10:00 AM'}"
      ]
     },
     "execution_count": 36,
     "metadata": {},
     "output_type": "execute_result"
    }
   ],
   "source": [
    "process_raw_text(model, tokenizer, json_schema, prompt_2)"
   ]
  },
  {
   "cell_type": "code",
   "execution_count": 13,
   "id": "9c464e5a-31f5-4361-99b0-ec7f4ca5b1e4",
   "metadata": {},
   "outputs": [
    {
     "ename": "NameError",
     "evalue": "name 'prompt_template' is not defined",
     "output_type": "error",
     "traceback": [
      "\u001b[0;31m---------------------------------------------------------------------------\u001b[0m",
      "\u001b[0;31mNameError\u001b[0m                                 Traceback (most recent call last)",
      "Cell \u001b[0;32mIn[13], line 2\u001b[0m\n\u001b[1;32m      1\u001b[0m \u001b[38;5;66;03m#prompt = \"Bob is a 19 year old student taking CS101 and Advanced Algorithms. Generate the following schema:\"\u001b[39;00m\n\u001b[0;32m----> 2\u001b[0m jsonformer \u001b[38;5;241m=\u001b[39m Jsonformer(model, tokenizer, json_schema, \u001b[43mprompt_template\u001b[49m\u001b[38;5;241m.\u001b[39mformat(prompt_1))\n\u001b[1;32m      3\u001b[0m generated_data \u001b[38;5;241m=\u001b[39m jsonformer()\n\u001b[1;32m      5\u001b[0m \u001b[38;5;28mprint\u001b[39m(generated_data)\n",
      "\u001b[0;31mNameError\u001b[0m: name 'prompt_template' is not defined"
     ]
    }
   ],
   "source": [
    "#prompt = \"Bob is a 19 year old student taking CS101 and Advanced Algorithms. Generate the following schema:\"\n",
    "jsonformer = Jsonformer(model, tokenizer, json_schema, prompt_template.format(prompt_1))\n",
    "generated_data = jsonformer()\n",
    "\n",
    "print(generated_data)"
   ]
  },
  {
   "cell_type": "markdown",
   "id": "e590e42e-4d78-4c02-a253-8d735ecf7020",
   "metadata": {},
   "source": [
    "## Make a test data set - Logistics data\n",
    "- Equipment: Van/Reefer/Flatbed\n",
    "- Origin/Destination: random selection from list of cities\n",
    "- Weight: random(0,45000)\n",
    "- other attributes:\n",
    "  - HOT\n",
    "  - $X Late fee\n",
    "  - Team load\n",
    "  - Dropoff time HH:00\n"
   ]
  },
  {
   "cell_type": "code",
   "execution_count": 67,
   "id": "cf866115-f36b-4268-af3f-4471ef558fa2",
   "metadata": {},
   "outputs": [],
   "source": [
    "import pandas as pd\n",
    "from src.utils import make_random_loads"
   ]
  },
  {
   "cell_type": "code",
   "execution_count": 15,
   "id": "d19a4310-5358-4ecd-aa7c-b0b14dc23eb1",
   "metadata": {},
   "outputs": [],
   "source": [
    "df_cities = pd.read_csv(\"static/uscities.csv\")"
   ]
  },
  {
   "cell_type": "code",
   "execution_count": 16,
   "id": "56823f87-4a32-4f72-94a1-df3cef8d15e9",
   "metadata": {},
   "outputs": [],
   "source": [
    "#df_cities.iloc[random.randint(0,df_cities.shape[0])]"
   ]
  },
  {
   "cell_type": "code",
   "execution_count": 56,
   "id": "86311970-98c3-4a72-9620-d961cc007148",
   "metadata": {},
   "outputs": [
    {
     "data": {
      "text/plain": [
       "{'Equipment': 'Flatbed',\n",
       " 'Weight': 39086,\n",
       " 'Origin': 'Thayer, NE',\n",
       " 'Destination': 'Holley, NY',\n",
       " 'Hot': True,\n",
       " 'Team': True,\n",
       " 'Dropoff': '23:00 Dropoff'}"
      ]
     },
     "execution_count": 56,
     "metadata": {},
     "output_type": "execute_result"
    }
   ],
   "source": [
    "import random\n",
    "\n",
    "def make_random_load(p_hot=1.0, p_team=1.0, p_dropoff=1.0, p_latefee=0.25):\n",
    "    out = {}\n",
    "\n",
    "    out['Equipment'] = random.choice(['Van', 'Reefer', 'Flatbed'])\n",
    "    out['Weight'] = random.randint(0,45000)\n",
    "\n",
    "    # Origin / Destination\n",
    "    origin = df_cities.iloc[random.randint(0,df_cities.shape[0])]\n",
    "    dest = df_cities.iloc[random.randint(0,df_cities.shape[0])]\n",
    "\n",
    "    out['Origin'] = f\"{origin['city']}, {origin['state_id']}\"\n",
    "    out['Destination'] = f\"{dest['city']}, {dest['state_id']}\"\n",
    "\n",
    "    \n",
    "    # Optional fields\n",
    "    if random.random() < p_hot:\n",
    "        out['Hot'] = True #random.choice(['HOT', 'HOT LOAD'])\n",
    "        \n",
    "    if random.random() < p_team:\n",
    "        out['Team'] = True #random.choice(['TEAM', 'TEAM LOAD'])\n",
    "        \n",
    "    if random.random() < p_dropoff:\n",
    "        out['Dropoff'] = f\"{random.randint(6,23):02d}:00 Dropoff\" \n",
    "        \n",
    "    if random.random() < p_latefee:\n",
    "        out['Latefee'] = f\"${random.randint(50,250+1)} late fee\"\n",
    "\n",
    "    return out\n",
    "\n",
    "# Make load into a string\n",
    "load = make_random_load()\n",
    "\n",
    "load"
   ]
  },
  {
   "cell_type": "code",
   "execution_count": 57,
   "id": "2d4dfbd7-ec88-49a8-b535-9ad92492a2da",
   "metadata": {},
   "outputs": [],
   "source": [
    "#process_raw_text(model, tokenizer, json_schema, load)"
   ]
  },
  {
   "cell_type": "code",
   "execution_count": 58,
   "id": "3de1e9ea-4b10-4b21-98be-efa1555cc63c",
   "metadata": {},
   "outputs": [],
   "source": [
    "loads = [make_random_load() for _ in range(10)]"
   ]
  },
  {
   "cell_type": "code",
   "execution_count": null,
   "id": "f6f3f96a-3e07-49ef-84fd-949db5b202aa",
   "metadata": {},
   "outputs": [],
   "source": []
  },
  {
   "cell_type": "code",
   "execution_count": 64,
   "id": "a131904d-bb79-40b1-91e0-310972110082",
   "metadata": {},
   "outputs": [
    {
     "data": {
      "text/plain": [
       "{'Equipment': 'Reefer',\n",
       " 'Weight': 8048,\n",
       " 'Origin': 'Middletown, OH',\n",
       " 'Destination': 'Mariposa, CA',\n",
       " 'Hot': True,\n",
       " 'Team': True,\n",
       " 'Dropoff': '19:00 Dropoff',\n",
       " 'Latefee': '$131 late fee'}"
      ]
     },
     "execution_count": 64,
     "metadata": {},
     "output_type": "execute_result"
    }
   ],
   "source": [
    "extra_cols = ['Team', 'Hot', 'Dropoff', 'Latefee']\n",
    "\n",
    "\n",
    "load_strs = []\n",
    "loads = [make_random_load() for _ in range(20)]\n",
    "\n",
    "for load in loads:\n",
    "    details = []\n",
    "    \n",
    "    for ec in extra_cols:\n",
    "        if ec in load:\n",
    "            if ec == 'Hot':\n",
    "                s = random.choice(['HOT', 'HOT LOAD'])\n",
    "            elif ec == 'Team':\n",
    "                s = random.choice(['TEAM', 'TEAM LOAD'])\n",
    "            else:\n",
    "                s = load[ec]\n",
    "            details.append(s)\n",
    "    \n",
    "    load_str = f\"{load['Equipment']} load from {load['Origin']} to {load['Destination']} total weight {load['Weight']} lbs {' '.join(details)}\"\n",
    "\n",
    "    load_strs.append(load_str)\n",
    "\n",
    "load"
   ]
  },
  {
   "cell_type": "code",
   "execution_count": 68,
   "id": "1c582139-f522-4b74-a6a8-6fb555255167",
   "metadata": {},
   "outputs": [],
   "source": [
    "loads, load_strs = make_random_loads(3)"
   ]
  },
  {
   "cell_type": "code",
   "execution_count": null,
   "id": "7ffd2cab-7c13-4072-8fc5-34a5e9eea203",
   "metadata": {},
   "outputs": [],
   "source": []
  },
  {
   "cell_type": "code",
   "execution_count": 70,
   "id": "402ef887-57e9-4c4e-9d55-3a6055591ba5",
   "metadata": {},
   "outputs": [
    {
     "name": "stdout",
     "output_type": "stream",
     "text": [
      "Input: Flatbed load from Tillatoba, MS to Matlock, IA total weight 35078 lbs TEAM LOAD HOT 16:00 Dropoff\n",
      "LLM:\n",
      "{'origin': 'Tillatoba, MS', 'destination': 'Matlock, IA', 'equipment': 'Flatbed', 'weight': 35078.0, 'weight_unit': 'lbs', 'hot': True, 'team': True, 'latefee': 1000.0, 'dropoff time': '16:00'}\n",
      "elapsed: 89.8296251296997s\n",
      "----------------------------------------\n",
      "\n",
      "Input: Van load from Ulen, MN to Ernstville, MD total weight 33089 lbs TEAM LOAD HOT LOAD 17:00 Dropoff\n",
      "LLM:\n",
      "{'origin': 'Ulen,MN', 'destination': 'Ernstville,MD', 'equipment': 'Van', 'weight': 33089.0, 'weight_unit': 'lbs', 'hot': True, 'team': True, 'latefee': 1000.0, 'dropoff time': '17:00'}\n",
      "elapsed: 96.23345589637756s\n",
      "----------------------------------------\n",
      "\n",
      "Input: Reefer load from Bridgman, MI to Syracuse, KS total weight 10605 lbs TEAM LOAD HOT LOAD 12:00 Dropoff $58 late fee\n",
      "LLM:\n",
      "{'origin': 'Bridgman, MI', 'destination': 'Syracuse, KS', 'equipment': 'Van', 'weight': 10605.0, 'weight_unit': 'lbs', 'hot': True, 'team': True, 'latefee': 58.0, 'dropoff time': '12:00'}\n",
      "elapsed: 102.19593000411987s\n",
      "----------------------------------------\n",
      "\n"
     ]
    }
   ],
   "source": [
    "llm_out = []\n",
    "\n",
    "for load_real, load_str in zip(loads, load_strs):\n",
    "    _start_time = time.time()\n",
    "\n",
    "    print(f\"Input: {load_str}\")\n",
    "    \n",
    "    print(\"LLM:\")\n",
    "    \n",
    "    pred = process_raw_text(model, tokenizer, json_schema, load_str)\n",
    "    print(pred)\n",
    "\n",
    "    llm_out.append(pred)\n",
    "\n",
    "    print(f\"elapsed: {time.time() - _start_time}s\")\n",
    "    \n",
    "    print(\"-\"*40)\n",
    "    print()"
   ]
  },
  {
   "cell_type": "code",
   "execution_count": 76,
   "id": "fe9ea0e9-4495-4450-aba3-5cd8196235cb",
   "metadata": {},
   "outputs": [],
   "source": [
    "df_pred = pd.DataFrame(llm_out)"
   ]
  },
  {
   "cell_type": "code",
   "execution_count": 75,
   "id": "712be6d1-0dc4-4087-baf7-d9d8a4a3e580",
   "metadata": {},
   "outputs": [],
   "source": [
    "df_real = pd.DataFrame(loads)"
   ]
  },
  {
   "cell_type": "code",
   "execution_count": 83,
   "id": "856f3582-ec27-4893-a8a5-c86f78f05201",
   "metadata": {},
   "outputs": [
    {
     "data": {
      "text/plain": [
       "Index(['equipment', 'weight', 'origin', 'destination', 'hot', 'team',\n",
       "       'dropoff', 'latefee'],\n",
       "      dtype='object')"
      ]
     },
     "execution_count": 83,
     "metadata": {},
     "output_type": "execute_result"
    }
   ],
   "source": [
    "df_real.columns.str.lower()"
   ]
  },
  {
   "cell_type": "code",
   "execution_count": 81,
   "id": "0c334b1d-43a2-4ce2-9819-c43be301ef3f",
   "metadata": {},
   "outputs": [
    {
     "data": {
      "text/plain": [
       "Index(['origin', 'destination', 'equipment', 'weight', 'weight_unit', 'hot',\n",
       "       'team', 'latefee', 'dropoff time'],\n",
       "      dtype='object')"
      ]
     },
     "execution_count": 81,
     "metadata": {},
     "output_type": "execute_result"
    }
   ],
   "source": [
    "df_pred.columns"
   ]
  },
  {
   "cell_type": "code",
   "execution_count": 84,
   "id": "c9399e6c-eb29-4772-b41d-3312244fd526",
   "metadata": {},
   "outputs": [
    {
     "ename": "KeyError",
     "evalue": "\"['dropoff'] not in index\"",
     "output_type": "error",
     "traceback": [
      "\u001b[0;31m---------------------------------------------------------------------------\u001b[0m",
      "\u001b[0;31mKeyError\u001b[0m                                  Traceback (most recent call last)",
      "Cell \u001b[0;32mIn[84], line 1\u001b[0m\n\u001b[0;32m----> 1\u001b[0m \u001b[43mdf_pred\u001b[49m\u001b[43m[\u001b[49m\u001b[43mdf_real\u001b[49m\u001b[38;5;241;43m.\u001b[39;49m\u001b[43mcolumns\u001b[49m\u001b[38;5;241;43m.\u001b[39;49m\u001b[43mstr\u001b[49m\u001b[38;5;241;43m.\u001b[39;49m\u001b[43mlower\u001b[49m\u001b[43m(\u001b[49m\u001b[43m)\u001b[49m\u001b[43m]\u001b[49m\n",
      "File \u001b[0;32m~/code/py_llm_experiments/venv/lib/python3.11/site-packages/pandas/core/frame.py:3902\u001b[0m, in \u001b[0;36mDataFrame.__getitem__\u001b[0;34m(self, key)\u001b[0m\n\u001b[1;32m   3900\u001b[0m     \u001b[38;5;28;01mif\u001b[39;00m is_iterator(key):\n\u001b[1;32m   3901\u001b[0m         key \u001b[38;5;241m=\u001b[39m \u001b[38;5;28mlist\u001b[39m(key)\n\u001b[0;32m-> 3902\u001b[0m     indexer \u001b[38;5;241m=\u001b[39m \u001b[38;5;28;43mself\u001b[39;49m\u001b[38;5;241;43m.\u001b[39;49m\u001b[43mcolumns\u001b[49m\u001b[38;5;241;43m.\u001b[39;49m\u001b[43m_get_indexer_strict\u001b[49m\u001b[43m(\u001b[49m\u001b[43mkey\u001b[49m\u001b[43m,\u001b[49m\u001b[43m \u001b[49m\u001b[38;5;124;43m\"\u001b[39;49m\u001b[38;5;124;43mcolumns\u001b[39;49m\u001b[38;5;124;43m\"\u001b[39;49m\u001b[43m)\u001b[49m[\u001b[38;5;241m1\u001b[39m]\n\u001b[1;32m   3904\u001b[0m \u001b[38;5;66;03m# take() does not accept boolean indexers\u001b[39;00m\n\u001b[1;32m   3905\u001b[0m \u001b[38;5;28;01mif\u001b[39;00m \u001b[38;5;28mgetattr\u001b[39m(indexer, \u001b[38;5;124m\"\u001b[39m\u001b[38;5;124mdtype\u001b[39m\u001b[38;5;124m\"\u001b[39m, \u001b[38;5;28;01mNone\u001b[39;00m) \u001b[38;5;241m==\u001b[39m \u001b[38;5;28mbool\u001b[39m:\n",
      "File \u001b[0;32m~/code/py_llm_experiments/venv/lib/python3.11/site-packages/pandas/core/indexes/base.py:6114\u001b[0m, in \u001b[0;36mIndex._get_indexer_strict\u001b[0;34m(self, key, axis_name)\u001b[0m\n\u001b[1;32m   6111\u001b[0m \u001b[38;5;28;01melse\u001b[39;00m:\n\u001b[1;32m   6112\u001b[0m     keyarr, indexer, new_indexer \u001b[38;5;241m=\u001b[39m \u001b[38;5;28mself\u001b[39m\u001b[38;5;241m.\u001b[39m_reindex_non_unique(keyarr)\n\u001b[0;32m-> 6114\u001b[0m \u001b[38;5;28;43mself\u001b[39;49m\u001b[38;5;241;43m.\u001b[39;49m\u001b[43m_raise_if_missing\u001b[49m\u001b[43m(\u001b[49m\u001b[43mkeyarr\u001b[49m\u001b[43m,\u001b[49m\u001b[43m \u001b[49m\u001b[43mindexer\u001b[49m\u001b[43m,\u001b[49m\u001b[43m \u001b[49m\u001b[43maxis_name\u001b[49m\u001b[43m)\u001b[49m\n\u001b[1;32m   6116\u001b[0m keyarr \u001b[38;5;241m=\u001b[39m \u001b[38;5;28mself\u001b[39m\u001b[38;5;241m.\u001b[39mtake(indexer)\n\u001b[1;32m   6117\u001b[0m \u001b[38;5;28;01mif\u001b[39;00m \u001b[38;5;28misinstance\u001b[39m(key, Index):\n\u001b[1;32m   6118\u001b[0m     \u001b[38;5;66;03m# GH 42790 - Preserve name from an Index\u001b[39;00m\n",
      "File \u001b[0;32m~/code/py_llm_experiments/venv/lib/python3.11/site-packages/pandas/core/indexes/base.py:6178\u001b[0m, in \u001b[0;36mIndex._raise_if_missing\u001b[0;34m(self, key, indexer, axis_name)\u001b[0m\n\u001b[1;32m   6175\u001b[0m     \u001b[38;5;28;01mraise\u001b[39;00m \u001b[38;5;167;01mKeyError\u001b[39;00m(\u001b[38;5;124mf\u001b[39m\u001b[38;5;124m\"\u001b[39m\u001b[38;5;124mNone of [\u001b[39m\u001b[38;5;132;01m{\u001b[39;00mkey\u001b[38;5;132;01m}\u001b[39;00m\u001b[38;5;124m] are in the [\u001b[39m\u001b[38;5;132;01m{\u001b[39;00maxis_name\u001b[38;5;132;01m}\u001b[39;00m\u001b[38;5;124m]\u001b[39m\u001b[38;5;124m\"\u001b[39m)\n\u001b[1;32m   6177\u001b[0m not_found \u001b[38;5;241m=\u001b[39m \u001b[38;5;28mlist\u001b[39m(ensure_index(key)[missing_mask\u001b[38;5;241m.\u001b[39mnonzero()[\u001b[38;5;241m0\u001b[39m]]\u001b[38;5;241m.\u001b[39munique())\n\u001b[0;32m-> 6178\u001b[0m \u001b[38;5;28;01mraise\u001b[39;00m \u001b[38;5;167;01mKeyError\u001b[39;00m(\u001b[38;5;124mf\u001b[39m\u001b[38;5;124m\"\u001b[39m\u001b[38;5;132;01m{\u001b[39;00mnot_found\u001b[38;5;132;01m}\u001b[39;00m\u001b[38;5;124m not in index\u001b[39m\u001b[38;5;124m\"\u001b[39m)\n",
      "\u001b[0;31mKeyError\u001b[0m: \"['dropoff'] not in index\""
     ]
    }
   ],
   "source": [
    "df_pred[df_real.columns.str.lower()]"
   ]
  },
  {
   "cell_type": "code",
   "execution_count": 58,
   "id": "f60bf80a-7395-43db-906d-4764fb498108",
   "metadata": {},
   "outputs": [
    {
     "ename": "SyntaxError",
     "evalue": "invalid syntax (2915883945.py, line 1)",
     "output_type": "error",
     "traceback": [
      "\u001b[0;36m  Cell \u001b[0;32mIn[58], line 1\u001b[0;36m\u001b[0m\n\u001b[0;31m    random.random() < p_hot:\u001b[0m\n\u001b[0m                           ^\u001b[0m\n\u001b[0;31mSyntaxError\u001b[0m\u001b[0;31m:\u001b[0m invalid syntax\n"
     ]
    }
   ],
   "source": [
    "#random.random() < p_hot:"
   ]
  },
  {
   "cell_type": "markdown",
   "id": "b27f3710-12b7-4aa0-a284-0b7ebac67e26",
   "metadata": {},
   "source": [
    "## Marketing stuff"
   ]
  },
  {
   "cell_type": "markdown",
   "id": "f74543e1-08dc-4814-bb0c-5d4508b9b53a",
   "metadata": {},
   "source": [
    "### Input"
   ]
  },
  {
   "cell_type": "code",
   "execution_count": 191,
   "id": "dee39d4e-e939-4a12-88dc-05504f3d9f61",
   "metadata": {},
   "outputs": [
    {
     "name": "stdout",
     "output_type": "stream",
     "text": [
      "Van load from Banks, ID to Danville, KY total weight 14153 lbs $50 late fee\n",
      "Flatbed load from North Puyallup, WA to Bay Hill, FL total weight 5226 lbs TEAM\n",
      "Van load from Webb City, MO to Roodhouse, IL total weight 17854 lbs TEAM LOAD\n",
      "...\n",
      "Reefer load from Mio, MI to Sarahsville, OH total weight 23763 lbs 06:00 Dropoff\n"
     ]
    }
   ],
   "source": [
    "\n",
    "print(\"\\n\".join(load_strs[:3] + ['...'] + load_strs[-1:]))"
   ]
  },
  {
   "cell_type": "markdown",
   "id": "a7c0f6a2-571b-4a1e-906e-bb042004ec90",
   "metadata": {},
   "source": [
    "### Schema"
   ]
  },
  {
   "cell_type": "code",
   "execution_count": 192,
   "id": "24e11a54-7042-4105-9b0e-0da2bdbef22a",
   "metadata": {},
   "outputs": [
    {
     "data": {
      "text/plain": [
       "{'type': 'object',\n",
       " 'properties': {'origin': {'type': 'string',\n",
       "   'description': 'Pickup City,State of load'},\n",
       "  'destination': {'type': 'string',\n",
       "   'description': 'Dropoff City,State of load'},\n",
       "  'equipment': {'type': 'string',\n",
       "   'enum': ['Van', 'Reefer', 'Flatbed'],\n",
       "   'description': 'The type of truckload, often Van, Reefer, or Flatbed'},\n",
       "  'weight': {'type': 'number', 'description': 'Total weight of the load'},\n",
       "  'weight_unit': {'type': 'string',\n",
       "   'description': 'measurement unit of weight'},\n",
       "  'hot': {'type': 'boolean', 'description': 'HOT load, hot'},\n",
       "  'team': {'type': 'boolean',\n",
       "   'description': 'If a load requires two drivers. Ex: TEAM, TEAM load'},\n",
       "  'latefee': {'type': 'number',\n",
       "   'required': False,\n",
       "   'description': 'dollar amount fee if a load is late'},\n",
       "  'dropoff time': {'type': 'string',\n",
       "   'required': False,\n",
       "   'description': 'Time load picksup HH:MM'}}}"
      ]
     },
     "execution_count": 192,
     "metadata": {},
     "output_type": "execute_result"
    }
   ],
   "source": [
    "json_schema"
   ]
  },
  {
   "cell_type": "markdown",
   "id": "19636ea4-1f99-4236-ab02-77fcc5d8ed6f",
   "metadata": {},
   "source": [
    "## Schema - Human readable"
   ]
  },
  {
   "cell_type": "code",
   "execution_count": 193,
   "id": "84e90436-c63c-47c7-9310-2c1205b77038",
   "metadata": {},
   "outputs": [
    {
     "name": "stdout",
     "output_type": "stream",
     "text": [
      "origin - string:  Pickup City,State of load\n",
      "destination - string:  Dropoff City,State of load\n",
      "equipment - string:  The type of truckload, often Van, Reefer, or Flatbed\n",
      "    Must be one of: ['Van', 'Reefer', 'Flatbed']\n",
      "weight - number:  Total weight of the load\n",
      "weight_unit - string:  measurement unit of weight\n",
      "hot - boolean:  HOT load, hot\n",
      "team - boolean:  If a load requires two drivers. Ex: TEAM, TEAM load\n",
      "latefee - number (Optional):  dollar amount fee if a load is late\n",
      "dropoff time - string (Optional):  Time load picksup HH:MM\n"
     ]
    }
   ],
   "source": [
    "for key,val in json_schema.get('properties').items():\n",
    "    optional = True if (val.get('default') is not None or val.get('required') == False) else False\n",
    "    \n",
    "    term_base = f\"{key} - {val.get('type')}{' (Optional)' if optional else ''}: \"\n",
    "\n",
    "\n",
    "    desc = val.get('description') or \"\"\n",
    "    if val.get('enum'):\n",
    "        desc = desc + '\\n    '+ f'Must be one of: {val.get(\"enum\")}'\n",
    "    \n",
    "    print(f\"{term_base} {desc}\")"
   ]
  },
  {
   "cell_type": "markdown",
   "id": "89f78788-457f-42c7-814c-7dd769a7f1b2",
   "metadata": {},
   "source": [
    "## Output"
   ]
  },
  {
   "cell_type": "code",
   "execution_count": 194,
   "id": "75c39500-a0dc-41c1-9c61-b203bfbab701",
   "metadata": {},
   "outputs": [],
   "source": [
    "test_input = list(zip(loads, load_strs))"
   ]
  },
  {
   "cell_type": "code",
   "execution_count": 195,
   "id": "094db54a-c588-4b08-b876-5bf04c211452",
   "metadata": {},
   "outputs": [
    {
     "name": "stdout",
     "output_type": "stream",
     "text": [
      "Input: Van load from Banks, ID to Danville, KY total weight 14153 lbs $50 late fee\n",
      "LLM:\n",
      "{'origin': 'Banks,ID', 'destination': 'Danville,KY', 'equipment': 'Van', 'weight': 14153.0, 'weight_unit': 'lbs', 'hot': False, 'team': False, 'latefee': 50.0, 'dropoff time': 'HH:MM'}\n",
      "elapsed: 104.97942781448364s\n",
      "----------------------------------------\n",
      "\n",
      "Input: Flatbed load from North Puyallup, WA to Bay Hill, FL total weight 5226 lbs TEAM\n",
      "LLM:\n",
      "{'origin': 'Puyallup, WA', 'destination': 'Bay Hill, FL', 'equipment': 'Van', 'weight': 5226.0, 'weight_unit': 'lbs', 'hot': False, 'team': False, 'latefee': 0.0, 'dropoff time': '11:00 AM'}\n",
      "elapsed: 106.35575699806213s\n",
      "----------------------------------------\n",
      "\n",
      "Input: Van load from Webb City, MO to Roodhouse, IL total weight 17854 lbs TEAM LOAD\n",
      "LLM:\n",
      "{'origin': 'Webb City, MO', 'destination': 'Roodhouse, IL', 'equipment': 'Van', 'weight': 17854.0, 'weight_unit': 'lbs', 'hot': False, 'team': False, 'latefee': 0.0, 'dropoff time': '11:00 AM'}\n",
      "elapsed: 92.69372177124023s\n",
      "----------------------------------------\n",
      "\n",
      "Input: Reefer load from Mio, MI to Sarahsville, OH total weight 23763 lbs 06:00 Dropoff\n",
      "LLM:\n",
      "{'origin': 'Mio, MI', 'destination': 'Sarahsville, OH', 'equipment': 'Van', 'weight': 23763.0, 'weight_unit': 'lbs', 'hot': False, 'team': False, 'latefee': 0.0, 'dropoff time': '06:00'}\n",
      "elapsed: 96.61263704299927s\n",
      "----------------------------------------\n",
      "\n"
     ]
    }
   ],
   "source": [
    "llm_out = []\n",
    "\n",
    "for load_real, load_str in (test_input[:3] + test_input[-1:]):\n",
    "    _start_time = time.time()\n",
    "\n",
    "    print(f\"Input: {load_str}\")\n",
    "    \n",
    "    print(\"LLM:\")\n",
    "    \n",
    "    pred = process_raw_text(model, tokenizer, json_schema, load_str)\n",
    "    print(pred)\n",
    "\n",
    "    llm_out.append(pred)\n",
    "\n",
    "    print(f\"elapsed: {time.time() - _start_time}s\")\n",
    "    \n",
    "    print(\"-\"*40)\n",
    "    print()"
   ]
  },
  {
   "cell_type": "code",
   "execution_count": 196,
   "id": "203d271b-cde4-4bcb-ba81-c5672bb731b4",
   "metadata": {},
   "outputs": [
    {
     "data": {
      "text/html": [
       "<div>\n",
       "<style scoped>\n",
       "    .dataframe tbody tr th:only-of-type {\n",
       "        vertical-align: middle;\n",
       "    }\n",
       "\n",
       "    .dataframe tbody tr th {\n",
       "        vertical-align: top;\n",
       "    }\n",
       "\n",
       "    .dataframe thead th {\n",
       "        text-align: right;\n",
       "    }\n",
       "</style>\n",
       "<table border=\"1\" class=\"dataframe\">\n",
       "  <thead>\n",
       "    <tr style=\"text-align: right;\">\n",
       "      <th></th>\n",
       "      <th>origin</th>\n",
       "      <th>destination</th>\n",
       "      <th>equipment</th>\n",
       "      <th>weight</th>\n",
       "      <th>weight_unit</th>\n",
       "      <th>hot</th>\n",
       "      <th>team</th>\n",
       "      <th>latefee</th>\n",
       "      <th>dropoff time</th>\n",
       "    </tr>\n",
       "  </thead>\n",
       "  <tbody>\n",
       "    <tr>\n",
       "      <th>0</th>\n",
       "      <td>Banks,ID</td>\n",
       "      <td>Danville,KY</td>\n",
       "      <td>Van</td>\n",
       "      <td>14153.0</td>\n",
       "      <td>lbs</td>\n",
       "      <td>False</td>\n",
       "      <td>False</td>\n",
       "      <td>50.0</td>\n",
       "      <td>HH:MM</td>\n",
       "    </tr>\n",
       "    <tr>\n",
       "      <th>1</th>\n",
       "      <td>Puyallup, WA</td>\n",
       "      <td>Bay Hill, FL</td>\n",
       "      <td>Van</td>\n",
       "      <td>5226.0</td>\n",
       "      <td>lbs</td>\n",
       "      <td>False</td>\n",
       "      <td>False</td>\n",
       "      <td>0.0</td>\n",
       "      <td>11:00 AM</td>\n",
       "    </tr>\n",
       "    <tr>\n",
       "      <th>2</th>\n",
       "      <td>Webb City, MO</td>\n",
       "      <td>Roodhouse, IL</td>\n",
       "      <td>Van</td>\n",
       "      <td>17854.0</td>\n",
       "      <td>lbs</td>\n",
       "      <td>False</td>\n",
       "      <td>False</td>\n",
       "      <td>0.0</td>\n",
       "      <td>11:00 AM</td>\n",
       "    </tr>\n",
       "    <tr>\n",
       "      <th>3</th>\n",
       "      <td>Mio, MI</td>\n",
       "      <td>Sarahsville, OH</td>\n",
       "      <td>Van</td>\n",
       "      <td>23763.0</td>\n",
       "      <td>lbs</td>\n",
       "      <td>False</td>\n",
       "      <td>False</td>\n",
       "      <td>0.0</td>\n",
       "      <td>06:00</td>\n",
       "    </tr>\n",
       "  </tbody>\n",
       "</table>\n",
       "</div>"
      ],
      "text/plain": [
       "          origin      destination equipment   weight weight_unit    hot  \\\n",
       "0       Banks,ID      Danville,KY       Van  14153.0         lbs  False   \n",
       "1   Puyallup, WA     Bay Hill, FL       Van   5226.0         lbs  False   \n",
       "2  Webb City, MO    Roodhouse, IL       Van  17854.0         lbs  False   \n",
       "3        Mio, MI  Sarahsville, OH       Van  23763.0         lbs  False   \n",
       "\n",
       "    team  latefee dropoff time  \n",
       "0  False     50.0        HH:MM  \n",
       "1  False      0.0     11:00 AM  \n",
       "2  False      0.0     11:00 AM  \n",
       "3  False      0.0        06:00  "
      ]
     },
     "execution_count": 196,
     "metadata": {},
     "output_type": "execute_result"
    }
   ],
   "source": [
    "pd.DataFrame(llm_out)"
   ]
  },
  {
   "cell_type": "code",
   "execution_count": 198,
   "id": "2619a25b-878e-435f-ba02-8df4bcdef6cd",
   "metadata": {},
   "outputs": [
    {
     "data": {
      "text/plain": [
       "[{'origin': 'Banks,ID',\n",
       "  'destination': 'Danville,KY',\n",
       "  'equipment': 'Van',\n",
       "  'weight': 14153.0,\n",
       "  'weight_unit': 'lbs',\n",
       "  'hot': False,\n",
       "  'team': False,\n",
       "  'latefee': 50.0,\n",
       "  'dropoff time': 'HH:MM'},\n",
       " {'origin': 'Puyallup, WA',\n",
       "  'destination': 'Bay Hill, FL',\n",
       "  'equipment': 'Van',\n",
       "  'weight': 5226.0,\n",
       "  'weight_unit': 'lbs',\n",
       "  'hot': False,\n",
       "  'team': False,\n",
       "  'latefee': 0.0,\n",
       "  'dropoff time': '11:00 AM'},\n",
       " {'origin': 'Webb City, MO',\n",
       "  'destination': 'Roodhouse, IL',\n",
       "  'equipment': 'Van',\n",
       "  'weight': 17854.0,\n",
       "  'weight_unit': 'lbs',\n",
       "  'hot': False,\n",
       "  'team': False,\n",
       "  'latefee': 0.0,\n",
       "  'dropoff time': '11:00 AM'},\n",
       " {'origin': 'Mio, MI',\n",
       "  'destination': 'Sarahsville, OH',\n",
       "  'equipment': 'Van',\n",
       "  'weight': 23763.0,\n",
       "  'weight_unit': 'lbs',\n",
       "  'hot': False,\n",
       "  'team': False,\n",
       "  'latefee': 0.0,\n",
       "  'dropoff time': '06:00'}]"
      ]
     },
     "execution_count": 198,
     "metadata": {},
     "output_type": "execute_result"
    }
   ],
   "source": [
    "llm_out"
   ]
  },
  {
   "cell_type": "code",
   "execution_count": 197,
   "id": "3801dccb-8c45-4c72-a2cf-bb810fffda7a",
   "metadata": {},
   "outputs": [
    {
     "data": {
      "text/html": [
       "<div>\n",
       "<style scoped>\n",
       "    .dataframe tbody tr th:only-of-type {\n",
       "        vertical-align: middle;\n",
       "    }\n",
       "\n",
       "    .dataframe tbody tr th {\n",
       "        vertical-align: top;\n",
       "    }\n",
       "\n",
       "    .dataframe thead th {\n",
       "        text-align: right;\n",
       "    }\n",
       "</style>\n",
       "<table border=\"1\" class=\"dataframe\">\n",
       "  <thead>\n",
       "    <tr style=\"text-align: right;\">\n",
       "      <th></th>\n",
       "      <th>Equipment</th>\n",
       "      <th>Weight</th>\n",
       "      <th>Origin</th>\n",
       "      <th>Destination</th>\n",
       "      <th>Latefee</th>\n",
       "      <th>Team</th>\n",
       "      <th>Dropoff</th>\n",
       "    </tr>\n",
       "  </thead>\n",
       "  <tbody>\n",
       "    <tr>\n",
       "      <th>0</th>\n",
       "      <td>Van</td>\n",
       "      <td>14153</td>\n",
       "      <td>Banks, ID</td>\n",
       "      <td>Danville, KY</td>\n",
       "      <td>$50 late fee</td>\n",
       "      <td>NaN</td>\n",
       "      <td>NaN</td>\n",
       "    </tr>\n",
       "    <tr>\n",
       "      <th>1</th>\n",
       "      <td>Flatbed</td>\n",
       "      <td>5226</td>\n",
       "      <td>North Puyallup, WA</td>\n",
       "      <td>Bay Hill, FL</td>\n",
       "      <td>NaN</td>\n",
       "      <td>TEAM</td>\n",
       "      <td>NaN</td>\n",
       "    </tr>\n",
       "    <tr>\n",
       "      <th>2</th>\n",
       "      <td>Van</td>\n",
       "      <td>17854</td>\n",
       "      <td>Webb City, MO</td>\n",
       "      <td>Roodhouse, IL</td>\n",
       "      <td>NaN</td>\n",
       "      <td>TEAM LOAD</td>\n",
       "      <td>NaN</td>\n",
       "    </tr>\n",
       "    <tr>\n",
       "      <th>3</th>\n",
       "      <td>Reefer</td>\n",
       "      <td>23763</td>\n",
       "      <td>Mio, MI</td>\n",
       "      <td>Sarahsville, OH</td>\n",
       "      <td>NaN</td>\n",
       "      <td>NaN</td>\n",
       "      <td>06:00 Dropoff</td>\n",
       "    </tr>\n",
       "  </tbody>\n",
       "</table>\n",
       "</div>"
      ],
      "text/plain": [
       "  Equipment  Weight              Origin      Destination       Latefee  \\\n",
       "0       Van   14153           Banks, ID     Danville, KY  $50 late fee   \n",
       "1   Flatbed    5226  North Puyallup, WA     Bay Hill, FL           NaN   \n",
       "2       Van   17854       Webb City, MO    Roodhouse, IL           NaN   \n",
       "3    Reefer   23763             Mio, MI  Sarahsville, OH           NaN   \n",
       "\n",
       "        Team        Dropoff  \n",
       "0        NaN            NaN  \n",
       "1       TEAM            NaN  \n",
       "2  TEAM LOAD            NaN  \n",
       "3        NaN  06:00 Dropoff  "
      ]
     },
     "execution_count": 197,
     "metadata": {},
     "output_type": "execute_result"
    }
   ],
   "source": [
    "pd.DataFrame(loads[:3] + loads[-1:])"
   ]
  },
  {
   "cell_type": "code",
   "execution_count": 52,
   "id": "cb62f615-5e31-49dd-a30e-0e2d19e9f117",
   "metadata": {},
   "outputs": [
    {
     "data": {
      "text/plain": [
       "GPTNeoXTokenizerFast(name_or_path='databricks/dolly-v2-7b', vocab_size=50254, model_max_length=1000000000000000019884624838656, is_fast=True, padding_side='right', truncation_side='right', special_tokens={'bos_token': '<|endoftext|>', 'eos_token': '<|endoftext|>', 'unk_token': '<|endoftext|>', 'pad_token': '<|endoftext|>', 'additional_special_tokens': ['### End', '### Instruction:', '### Response:']}, clean_up_tokenization_spaces=True)"
      ]
     },
     "execution_count": 52,
     "metadata": {},
     "output_type": "execute_result"
    }
   ],
   "source": [
    "tokenizer"
   ]
  },
  {
   "cell_type": "code",
   "execution_count": 47,
   "id": "b3d42ff0-8c0e-427a-b7d9-f0a126889e39",
   "metadata": {},
   "outputs": [],
   "source": []
  },
  {
   "cell_type": "code",
   "execution_count": 49,
   "id": "3046aa1a-8f1d-42ac-a651-48fa446cd5f8",
   "metadata": {},
   "outputs": [],
   "source": []
  },
  {
   "cell_type": "code",
   "execution_count": 51,
   "id": "a2a1dba4-65c0-4da7-bca1-280c95546037",
   "metadata": {},
   "outputs": [
    {
     "data": {
      "text/plain": [
       "torch.Size([50280])"
      ]
     },
     "execution_count": 51,
     "metadata": {},
     "output_type": "execute_result"
    }
   ],
   "source": []
  },
  {
   "cell_type": "code",
   "execution_count": null,
   "id": "6586a235-16c3-4aa1-9472-7e09da23240c",
   "metadata": {},
   "outputs": [],
   "source": []
  }
 ],
 "metadata": {
  "kernelspec": {
   "display_name": "py311_llm_exp",
   "language": "python",
   "name": "py311_llm_exp"
  },
  "language_info": {
   "codemirror_mode": {
    "name": "ipython",
    "version": 3
   },
   "file_extension": ".py",
   "mimetype": "text/x-python",
   "name": "python",
   "nbconvert_exporter": "python",
   "pygments_lexer": "ipython3",
   "version": "3.11.5"
  }
 },
 "nbformat": 4,
 "nbformat_minor": 5
}
